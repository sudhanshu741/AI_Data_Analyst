{
  "nbformat": 4,
  "nbformat_minor": 0,
  "metadata": {
    "colab": {
      "provenance": [],
      "authorship_tag": "ABX9TyNHjMP/gt+xm3Fjhw/abk8W",
      "include_colab_link": true
    },
    "kernelspec": {
      "name": "python3",
      "display_name": "Python 3"
    },
    "language_info": {
      "name": "python"
    }
  },
  "cells": [
    {
      "cell_type": "markdown",
      "metadata": {
        "id": "view-in-github",
        "colab_type": "text"
      },
      "source": [
        "<a href=\"https://colab.research.google.com/github/sudhanshu741/AI_Data_Analyst/blob/main/Test_Data_Analysis.ipynb\" target=\"_parent\"><img src=\"https://colab.research.google.com/assets/colab-badge.svg\" alt=\"Open In Colab\"/></a>"
      ]
    },
    {
      "cell_type": "code",
      "execution_count": null,
      "metadata": {
        "id": "Nd29HZADP_MW"
      },
      "outputs": [],
      "source": [
        "import pandas as pd\n",
        "\n",
        "import unittest\n",
        "from unittest.mock import patch, MagicMock\n",
        "class TestDataAnalysis(unittest.TestCase):\n",
        "\n",
        "    @patch('pandas.read_csv')\n",
        "    @patch('pandas.read_json')\n",
        "    def test_load_data_csv(self, mock_read_json, mock_read_csv):\n",
        "\n",
        "        mock_read_csv.return_value = pd.DataFrame({'A': [1, 2], 'B': [3, 4]})\n",
        "        path = 'path/to/file.csv'\n",
        "\n",
        "\n",
        "        df = load_data(path)\n",
        "\n",
        "\n",
        "        mock_read_csv.assert_called_once_with(path)\n",
        "        self.assertEqual(df.shape, (2, 2))\n",
        "\n",
        "    @patch('pandas.read_json')\n",
        "    @patch('pandas.read_excel')\n",
        "    def test_load_data_json(self, mock_read_excel, mock_read_json):\n",
        "\n",
        "        mock_read_json.return_value = pd.DataFrame({'A': [5, 6], 'B': [7, 8]})\n",
        "        path = 'path/to/file.json'\n",
        "\n",
        "\n",
        "        df = load_data(path)\n",
        "\n",
        "\n",
        "        mock_read_json.assert_called_once_with(path)\n",
        "        self.assertEqual(df.shape, (2, 2))\n",
        "\n",
        "    def test_load_data_invalid_extension(self):\n",
        "        with self.assertRaises(ValueError) as context:\n",
        "            load_data('path/to/file.txt')\n",
        "        self.assertEqual(str(context.exception), 'Unsupported file format: txt')\n",
        "\n",
        "    def test_clean_data(self):\n",
        "\n",
        "        df = pd.DataFrame({'A': [1, 1, 2], 'B': [3, 3, 4]})\n",
        "\n",
        "\n",
        "        cleaned_df = clean_data(df)\n",
        "\n",
        "\n",
        "        self.assertEqual(cleaned_df.shape, (2, 2))\n",
        "\n",
        "    def test_describe(self):\n",
        "\n",
        "        df = pd.DataFrame({'A': [1, 2, 3], 'B': [4, 5, 6]})\n",
        "\n",
        "\n",
        "        result = describe(df)\n",
        "\n",
        "\n",
        "        self.assertIn('A', result.index)\n",
        "        self.assertEqual(result.loc['A', 'mean'], 2)\n",
        "\n",
        "    def test_trend(self):\n",
        "\n",
        "        df = pd.DataFrame({'Country': ['USA', 'CAN', 'GBR'], 'Total': [5, 3, 4]})\n",
        "\n",
        "\n",
        "        result = trend(df, top_n=2)\n",
        "\n",
        "\n",
        "        self.assertEqual(result.shape[0], 2)\n",
        "        self.assertEqual(result['Country'].tolist(), ['USA', 'GBR'])\n",
        "\n",
        "    def test_report(self):\n",
        "\n",
        "        df = pd.DataFrame({'Country': ['USA', 'CAN'], 'Gold': [1, 0], 'Total': [10, 5]})\n",
        "\n",
        "\n",
        "        result = report(df)\n",
        "\n",
        "\n",
        "        self.assertIn('Descriptive stats', result)\n",
        "        self.assertIn('top 5 countries', result)\n",
        "\n",
        "if __name__ == '__main__':\n",
        "    unittest.main()\n",
        "\n",
        "\n",
        "\n",
        "\n"
      ]
    }
  ]
}